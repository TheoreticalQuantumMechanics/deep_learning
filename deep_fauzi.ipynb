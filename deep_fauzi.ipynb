{
 "cells": [
  {
   "cell_type": "code",
   "execution_count": 1,
   "metadata": {},
   "outputs": [],
   "source": [
    "from tensorflow import keras"
   ]
  },
  {
   "cell_type": "code",
   "execution_count": 2,
   "metadata": {},
   "outputs": [
    {
     "data": {
      "text/plain": [
       "'2.8.0'"
      ]
     },
     "execution_count": 2,
     "metadata": {},
     "output_type": "execute_result"
    }
   ],
   "source": [
    "keras.__version__"
   ]
  },
  {
   "cell_type": "code",
   "execution_count": 3,
   "metadata": {},
   "outputs": [],
   "source": [
    "import tensorflow as tf"
   ]
  },
  {
   "cell_type": "code",
   "execution_count": 4,
   "metadata": {},
   "outputs": [
    {
     "data": {
      "text/plain": [
       "'2.8.0'"
      ]
     },
     "execution_count": 4,
     "metadata": {},
     "output_type": "execute_result"
    }
   ],
   "source": [
    "tf.__version__"
   ]
  },
  {
   "cell_type": "code",
   "execution_count": 5,
   "metadata": {},
   "outputs": [],
   "source": [
    "fashion = keras.datasets.fashion_mnist #data"
   ]
  },
  {
   "cell_type": "code",
   "execution_count": 6,
   "metadata": {},
   "outputs": [
    {
     "name": "stdout",
     "output_type": "stream",
     "text": [
      "<module 'keras.api._v2.keras.datasets.fashion_mnist' from 'C:\\\\Users\\\\FAUZI FAMILY\\\\AppData\\\\Roaming\\\\Python\\\\Python310\\\\site-packages\\\\keras\\\\api\\\\_v2\\\\keras\\\\datasets\\\\fashion_mnist\\\\__init__.py'>\n"
     ]
    }
   ],
   "source": [
    "print(fashion)"
   ]
  },
  {
   "cell_type": "code",
   "execution_count": 12,
   "metadata": {},
   "outputs": [
    {
     "name": "stdout",
     "output_type": "stream",
     "text": [
      "Downloading data from https://storage.googleapis.com/tensorflow/tf-keras-datasets/train-labels-idx1-ubyte.gz\n",
      "32768/29515 [=================================] - 0s 2us/step\n",
      "40960/29515 [=========================================] - 0s 2us/step\n",
      "Downloading data from https://storage.googleapis.com/tensorflow/tf-keras-datasets/train-images-idx3-ubyte.gz\n",
      "26427392/26421880 [==============================] - 8s 0us/step\n",
      "26435584/26421880 [==============================] - 8s 0us/step\n",
      "Downloading data from https://storage.googleapis.com/tensorflow/tf-keras-datasets/t10k-labels-idx1-ubyte.gz\n",
      "16384/5148 [===============================================================================================] - 0s 0s/step\n",
      "Downloading data from https://storage.googleapis.com/tensorflow/tf-keras-datasets/t10k-images-idx3-ubyte.gz\n",
      "4423680/4422102 [==============================] - 2s 0us/step\n",
      "4431872/4422102 [==============================] - 2s 0us/step\n"
     ]
    }
   ],
   "source": [
    "(xtrain, ytrain), (xtest, ytest) = fashion.load_data()"
   ]
  },
  {
   "cell_type": "code",
   "execution_count": 13,
   "metadata": {},
   "outputs": [
    {
     "data": {
      "text/plain": [
       "(60000, 28, 28)"
      ]
     },
     "execution_count": 13,
     "metadata": {},
     "output_type": "execute_result"
    }
   ],
   "source": [
    "xtrain.shape"
   ]
  },
  {
   "cell_type": "code",
   "execution_count": 14,
   "metadata": {},
   "outputs": [
    {
     "data": {
      "text/plain": [
       "dtype('uint8')"
      ]
     },
     "execution_count": 14,
     "metadata": {},
     "output_type": "execute_result"
    }
   ],
   "source": [
    "xtrain.dtype"
   ]
  },
  {
   "cell_type": "code",
   "execution_count": 15,
   "metadata": {},
   "outputs": [],
   "source": [
    "xvalid, xtrain = xtrain[:5000]/255.0, xtrain[5000:]/255.0"
   ]
  },
  {
   "cell_type": "code",
   "execution_count": 19,
   "metadata": {},
   "outputs": [
    {
     "data": {
      "text/plain": [
       "array([[0.        , 0.        , 0.        , 0.        , 0.        ,\n",
       "        0.00392157, 0.        , 0.        , 0.        , 0.        ,\n",
       "        0.16078431, 0.7372549 , 0.40392157, 0.21176471, 0.18823529,\n",
       "        0.16862745, 0.34117647, 0.65882353, 0.52156863, 0.0627451 ,\n",
       "        0.        , 0.        , 0.        , 0.        , 0.        ,\n",
       "        0.        , 0.        , 0.        ],\n",
       "       [0.        , 0.        , 0.        , 0.00392157, 0.        ,\n",
       "        0.        , 0.        , 0.19215686, 0.53333333, 0.85882353,\n",
       "        0.84705882, 0.89411765, 0.9254902 , 1.        , 1.        ,\n",
       "        1.        , 1.        , 0.85098039, 0.84313725, 0.99607843,\n",
       "        0.90588235, 0.62745098, 0.17647059, 0.        , 0.        ,\n",
       "        0.        , 0.        , 0.        ],\n",
       "       [0.        , 0.        , 0.        , 0.        , 0.        ,\n",
       "        0.05490196, 0.69019608, 0.87058824, 0.87843137, 0.83137255,\n",
       "        0.79607843, 0.77647059, 0.76862745, 0.78431373, 0.84313725,\n",
       "        0.8       , 0.79215686, 0.78823529, 0.78823529, 0.78823529,\n",
       "        0.81960784, 0.85490196, 0.87843137, 0.64313725, 0.        ,\n",
       "        0.        , 0.        , 0.        ],\n",
       "       [0.        , 0.        , 0.        , 0.        , 0.        ,\n",
       "        0.7372549 , 0.85882353, 0.78431373, 0.77647059, 0.79215686,\n",
       "        0.77647059, 0.78039216, 0.78039216, 0.78823529, 0.76862745,\n",
       "        0.77647059, 0.77647059, 0.78431373, 0.78431373, 0.78431373,\n",
       "        0.78431373, 0.78823529, 0.78431373, 0.88235294, 0.16078431,\n",
       "        0.        , 0.        , 0.        ],\n",
       "       [0.        , 0.        , 0.        , 0.        , 0.2       ,\n",
       "        0.85882353, 0.78039216, 0.79607843, 0.79607843, 0.83137255,\n",
       "        0.93333333, 0.97254902, 0.98039216, 0.96078431, 0.97647059,\n",
       "        0.96470588, 0.96862745, 0.98823529, 0.97254902, 0.92156863,\n",
       "        0.81176471, 0.79607843, 0.79607843, 0.87058824, 0.54901961,\n",
       "        0.        , 0.        , 0.        ],\n",
       "       [0.        , 0.        , 0.        , 0.        , 0.45490196,\n",
       "        0.88627451, 0.80784314, 0.8       , 0.81176471, 0.8       ,\n",
       "        0.39607843, 0.29411765, 0.18431373, 0.28627451, 0.18823529,\n",
       "        0.19607843, 0.17647059, 0.2       , 0.24705882, 0.44313725,\n",
       "        0.87058824, 0.79215686, 0.80784314, 0.8627451 , 0.87843137,\n",
       "        0.        , 0.        , 0.        ],\n",
       "       [0.        , 0.        , 0.        , 0.        , 0.78431373,\n",
       "        0.87058824, 0.81960784, 0.79607843, 0.84313725, 0.78431373,\n",
       "        0.        , 0.2745098 , 0.38431373, 0.        , 0.40392157,\n",
       "        0.23137255, 0.26666667, 0.27843137, 0.19215686, 0.        ,\n",
       "        0.85882353, 0.80784314, 0.83921569, 0.82352941, 0.98039216,\n",
       "        0.14901961, 0.        , 0.        ],\n",
       "       [0.        , 0.        , 0.        , 0.        , 0.96862745,\n",
       "        0.85490196, 0.83137255, 0.82352941, 0.84313725, 0.83921569,\n",
       "        0.        , 0.99607843, 0.95294118, 0.54509804, 1.        ,\n",
       "        0.68235294, 0.98431373, 1.        , 0.80392157, 0.        ,\n",
       "        0.84313725, 0.85098039, 0.83921569, 0.81568627, 0.8627451 ,\n",
       "        0.37254902, 0.        , 0.        ],\n",
       "       [0.        , 0.        , 0.        , 0.17647059, 0.88627451,\n",
       "        0.83921569, 0.83921569, 0.84313725, 0.87843137, 0.80392157,\n",
       "        0.        , 0.16470588, 0.1372549 , 0.23529412, 0.0627451 ,\n",
       "        0.06666667, 0.04705882, 0.05098039, 0.2745098 , 0.        ,\n",
       "        0.74117647, 0.84705882, 0.83137255, 0.80784314, 0.83137255,\n",
       "        0.61176471, 0.        , 0.        ],\n",
       "       [0.        , 0.        , 0.        , 0.64313725, 0.92156863,\n",
       "        0.83921569, 0.82745098, 0.8627451 , 0.84705882, 0.78823529,\n",
       "        0.20392157, 0.27843137, 0.34901961, 0.36862745, 0.3254902 ,\n",
       "        0.30588235, 0.2745098 , 0.29803922, 0.36078431, 0.34117647,\n",
       "        0.80784314, 0.81176471, 0.87058824, 0.83529412, 0.85882353,\n",
       "        0.81568627, 0.        , 0.        ],\n",
       "       [0.        , 0.        , 0.        , 0.41568627, 0.73333333,\n",
       "        0.8745098 , 0.92941176, 0.97254902, 0.82745098, 0.77647059,\n",
       "        0.98823529, 0.98039216, 0.97254902, 0.96078431, 0.97254902,\n",
       "        0.98823529, 0.99215686, 0.98039216, 0.98823529, 0.9372549 ,\n",
       "        0.78823529, 0.83137255, 0.88235294, 0.84313725, 0.75686275,\n",
       "        0.44313725, 0.        , 0.        ],\n",
       "       [0.        , 0.        , 0.        , 0.        , 0.        ,\n",
       "        0.06666667, 0.21176471, 0.62352941, 0.87058824, 0.75686275,\n",
       "        0.81568627, 0.75294118, 0.77254902, 0.78431373, 0.78431373,\n",
       "        0.78431373, 0.78431373, 0.78823529, 0.79607843, 0.76470588,\n",
       "        0.82352941, 0.64705882, 0.        , 0.        , 0.        ,\n",
       "        0.        , 0.        , 0.        ],\n",
       "       [0.        , 0.        , 0.        , 0.        , 0.        ,\n",
       "        0.        , 0.        , 0.18431373, 0.88235294, 0.75294118,\n",
       "        0.83921569, 0.79607843, 0.80784314, 0.8       , 0.8       ,\n",
       "        0.80392157, 0.80784314, 0.8       , 0.83137255, 0.77254902,\n",
       "        0.85490196, 0.41960784, 0.        , 0.        , 0.        ,\n",
       "        0.        , 0.        , 0.        ],\n",
       "       [0.        , 0.        , 0.        , 0.        , 0.00392157,\n",
       "        0.02352941, 0.        , 0.18039216, 0.83137255, 0.76470588,\n",
       "        0.83137255, 0.79215686, 0.80784314, 0.80392157, 0.8       ,\n",
       "        0.80392157, 0.80784314, 0.8       , 0.83137255, 0.78431373,\n",
       "        0.85490196, 0.35686275, 0.        , 0.01176471, 0.00392157,\n",
       "        0.        , 0.        , 0.        ],\n",
       "       [0.        , 0.        , 0.        , 0.        , 0.        ,\n",
       "        0.00392157, 0.        , 0.04313725, 0.77254902, 0.78039216,\n",
       "        0.80392157, 0.79215686, 0.80392157, 0.80784314, 0.8       ,\n",
       "        0.80392157, 0.81176471, 0.8       , 0.80392157, 0.80392157,\n",
       "        0.85490196, 0.30196078, 0.        , 0.01960784, 0.        ,\n",
       "        0.        , 0.        , 0.        ],\n",
       "       [0.        , 0.        , 0.        , 0.        , 0.        ,\n",
       "        0.01176471, 0.        , 0.00784314, 0.74901961, 0.77647059,\n",
       "        0.78823529, 0.80392157, 0.80784314, 0.80392157, 0.80392157,\n",
       "        0.80784314, 0.81960784, 0.80784314, 0.78039216, 0.81960784,\n",
       "        0.85882353, 0.29019608, 0.        , 0.01960784, 0.        ,\n",
       "        0.        , 0.        , 0.        ],\n",
       "       [0.        , 0.        , 0.        , 0.        , 0.        ,\n",
       "        0.00784314, 0.        , 0.        , 0.7372549 , 0.77254902,\n",
       "        0.78431373, 0.81176471, 0.81176471, 0.8       , 0.81176471,\n",
       "        0.81176471, 0.82352941, 0.81568627, 0.77647059, 0.81176471,\n",
       "        0.86666667, 0.28235294, 0.        , 0.01568627, 0.        ,\n",
       "        0.        , 0.        , 0.        ],\n",
       "       [0.        , 0.        , 0.        , 0.        , 0.        ,\n",
       "        0.00784314, 0.        , 0.        , 0.84313725, 0.77647059,\n",
       "        0.79607843, 0.80784314, 0.81568627, 0.80392157, 0.81176471,\n",
       "        0.81176471, 0.82352941, 0.81568627, 0.78431373, 0.79215686,\n",
       "        0.87058824, 0.29411765, 0.        , 0.01568627, 0.        ,\n",
       "        0.        , 0.        , 0.        ],\n",
       "       [0.        , 0.        , 0.        , 0.        , 0.        ,\n",
       "        0.00392157, 0.        , 0.        , 0.83137255, 0.77647059,\n",
       "        0.81960784, 0.80784314, 0.81960784, 0.80784314, 0.81568627,\n",
       "        0.81176471, 0.82745098, 0.80784314, 0.80392157, 0.77647059,\n",
       "        0.86666667, 0.31372549, 0.        , 0.01176471, 0.        ,\n",
       "        0.        , 0.        , 0.        ],\n",
       "       [0.        , 0.        , 0.        , 0.        , 0.        ,\n",
       "        0.00392157, 0.        , 0.        , 0.8       , 0.78823529,\n",
       "        0.80392157, 0.81568627, 0.81176471, 0.80392157, 0.82745098,\n",
       "        0.80392157, 0.82352941, 0.82352941, 0.81960784, 0.76470588,\n",
       "        0.86666667, 0.37647059, 0.        , 0.01176471, 0.        ,\n",
       "        0.        , 0.        , 0.        ],\n",
       "       [0.        , 0.        , 0.        , 0.        , 0.        ,\n",
       "        0.00392157, 0.        , 0.        , 0.79215686, 0.78823529,\n",
       "        0.80392157, 0.81960784, 0.81176471, 0.80392157, 0.83529412,\n",
       "        0.80784314, 0.82352941, 0.81960784, 0.82352941, 0.76078431,\n",
       "        0.85098039, 0.41176471, 0.        , 0.00784314, 0.        ,\n",
       "        0.        , 0.        , 0.        ],\n",
       "       [0.        , 0.        , 0.        , 0.        , 0.        ,\n",
       "        0.00392157, 0.        , 0.        , 0.8       , 0.8       ,\n",
       "        0.80392157, 0.81568627, 0.81176471, 0.80392157, 0.84313725,\n",
       "        0.81176471, 0.82352941, 0.81568627, 0.82745098, 0.75686275,\n",
       "        0.83529412, 0.45098039, 0.        , 0.00784314, 0.        ,\n",
       "        0.        , 0.        , 0.        ],\n",
       "       [0.        , 0.        , 0.        , 0.        , 0.        ,\n",
       "        0.        , 0.        , 0.        , 0.8       , 0.81176471,\n",
       "        0.81176471, 0.81568627, 0.80784314, 0.80784314, 0.84313725,\n",
       "        0.82352941, 0.82352941, 0.81176471, 0.83137255, 0.76470588,\n",
       "        0.82352941, 0.4627451 , 0.        , 0.00784314, 0.        ,\n",
       "        0.        , 0.        , 0.        ],\n",
       "       [0.        , 0.        , 0.        , 0.        , 0.        ,\n",
       "        0.00392157, 0.        , 0.        , 0.77647059, 0.81568627,\n",
       "        0.81568627, 0.81568627, 0.8       , 0.81176471, 0.83137255,\n",
       "        0.83137255, 0.82352941, 0.81176471, 0.82745098, 0.76862745,\n",
       "        0.81176471, 0.4745098 , 0.        , 0.00392157, 0.        ,\n",
       "        0.        , 0.        , 0.        ],\n",
       "       [0.        , 0.        , 0.        , 0.        , 0.        ,\n",
       "        0.00392157, 0.        , 0.        , 0.77647059, 0.82352941,\n",
       "        0.81176471, 0.81568627, 0.80784314, 0.81960784, 0.83529412,\n",
       "        0.83137255, 0.82745098, 0.81176471, 0.82352941, 0.77254902,\n",
       "        0.81176471, 0.48627451, 0.        , 0.00392157, 0.        ,\n",
       "        0.        , 0.        , 0.        ],\n",
       "       [0.        , 0.        , 0.        , 0.        , 0.        ,\n",
       "        0.        , 0.        , 0.        , 0.6745098 , 0.82352941,\n",
       "        0.79607843, 0.78823529, 0.78039216, 0.8       , 0.81176471,\n",
       "        0.80392157, 0.8       , 0.78823529, 0.80392157, 0.77254902,\n",
       "        0.80784314, 0.49803922, 0.        , 0.        , 0.        ,\n",
       "        0.        , 0.        , 0.        ],\n",
       "       [0.        , 0.        , 0.        , 0.        , 0.        ,\n",
       "        0.        , 0.        , 0.        , 0.7372549 , 0.86666667,\n",
       "        0.83921569, 0.91764706, 0.9254902 , 0.93333333, 0.95686275,\n",
       "        0.95686275, 0.95686275, 0.94117647, 0.95294118, 0.83921569,\n",
       "        0.87843137, 0.63529412, 0.        , 0.00784314, 0.        ,\n",
       "        0.        , 0.        , 0.        ],\n",
       "       [0.        , 0.        , 0.        , 0.        , 0.        ,\n",
       "        0.00392157, 0.        , 0.        , 0.54509804, 0.57254902,\n",
       "        0.50980392, 0.52941176, 0.52941176, 0.5372549 , 0.49019608,\n",
       "        0.48627451, 0.49019608, 0.4745098 , 0.46666667, 0.44705882,\n",
       "        0.50980392, 0.29803922, 0.        , 0.        , 0.        ,\n",
       "        0.        , 0.        , 0.        ]])"
      ]
     },
     "execution_count": 19,
     "metadata": {},
     "output_type": "execute_result"
    }
   ],
   "source": [
    "xvalid[1]"
   ]
  },
  {
   "cell_type": "code",
   "execution_count": 20,
   "metadata": {},
   "outputs": [],
   "source": [
    "yvalid, ytrain = ytrain[:5000], ytrain[5000:]"
   ]
  },
  {
   "cell_type": "code",
   "execution_count": 27,
   "metadata": {},
   "outputs": [
    {
     "data": {
      "text/plain": [
       "array([4, 0, 7, 9, 9], dtype=uint8)"
      ]
     },
     "execution_count": 27,
     "metadata": {},
     "output_type": "execute_result"
    }
   ],
   "source": [
    "ytrain[:5]"
   ]
  },
  {
   "cell_type": "code",
   "execution_count": 21,
   "metadata": {},
   "outputs": [],
   "source": [
    "names = ['top', 'trouser', 'pullover', 'dress',' coat', 'sandal','shirt','sneaker', 'bag', 'boot']"
   ]
  },
  {
   "cell_type": "code",
   "execution_count": 22,
   "metadata": {},
   "outputs": [
    {
     "data": {
      "text/plain": [
       "['top',\n",
       " 'trouser',\n",
       " 'pullover',\n",
       " 'dress',\n",
       " ' coat',\n",
       " 'sandal',\n",
       " 'shirt',\n",
       " 'sneaker',\n",
       " 'bag',\n",
       " 'boot']"
      ]
     },
     "execution_count": 22,
     "metadata": {},
     "output_type": "execute_result"
    }
   ],
   "source": [
    "names"
   ]
  },
  {
   "cell_type": "code",
   "execution_count": 23,
   "metadata": {},
   "outputs": [
    {
     "data": {
      "text/plain": [
       "' coat'"
      ]
     },
     "execution_count": 23,
     "metadata": {},
     "output_type": "execute_result"
    }
   ],
   "source": [
    "names[ytrain[0]]"
   ]
  },
  {
   "cell_type": "code",
   "execution_count": 42,
   "metadata": {},
   "outputs": [],
   "source": [
    "model = keras.models.Sequential([\n",
    "    keras.layers.Flatten(input_shape=[28,28]),\n",
    "    keras.layers.Dense(300, activation='relu'),\n",
    "    keras.layers.Dense(100, activation='relu'),\n",
    "    keras.layers.Dense(10, activation='softmax')\n",
    "])\n"
   ]
  },
  {
   "cell_type": "code",
   "execution_count": 30,
   "metadata": {},
   "outputs": [],
   "source": [
    "model.add(keras.layers.Flatten(input_shape=[28,28]))\n",
    "model.add(keras.layers.Dense(300, activation='relu'))\n",
    "model.add(keras.layers.Dense(100, activation='relu'))\n",
    "model.add(keras.layers.Dense(10, activation='softmax'))"
   ]
  },
  {
   "cell_type": "code",
   "execution_count": 43,
   "metadata": {},
   "outputs": [
    {
     "name": "stdout",
     "output_type": "stream",
     "text": [
      "Model: \"sequential_2\"\n",
      "_________________________________________________________________\n",
      " Layer (type)                Output Shape              Param #   \n",
      "=================================================================\n",
      " flatten_3 (Flatten)         (None, 784)               0         \n",
      "                                                                 \n",
      " dense_6 (Dense)             (None, 300)               235500    \n",
      "                                                                 \n",
      " dense_7 (Dense)             (None, 100)               30100     \n",
      "                                                                 \n",
      " dense_8 (Dense)             (None, 10)                1010      \n",
      "                                                                 \n",
      "=================================================================\n",
      "Total params: 266,610\n",
      "Trainable params: 266,610\n",
      "Non-trainable params: 0\n",
      "_________________________________________________________________\n"
     ]
    }
   ],
   "source": [
    "model.summary()"
   ]
  },
  {
   "cell_type": "code",
   "execution_count": 45,
   "metadata": {},
   "outputs": [
    {
     "name": "stdout",
     "output_type": "stream",
     "text": [
      "You must install pydot (`pip install pydot`) and install graphviz (see instructions at https://graphviz.gitlab.io/download/) for plot_model/model_to_dot to work.\n"
     ]
    }
   ],
   "source": [
    "keras.utils.plot_model(model)"
   ]
  },
  {
   "cell_type": "code",
   "execution_count": 34,
   "metadata": {},
   "outputs": [
    {
     "name": "stdout",
     "output_type": "stream",
     "text": [
      "Defaulting to user installation because normal site-packages is not writeable"
     ]
    },
    {
     "name": "stderr",
     "output_type": "stream",
     "text": [
      "WARNING: Ignoring invalid distribution -pencv-python (c:\\users\\fauzi family\\appdata\\roaming\\python\\python310\\site-packages)\n",
      "WARNING: Ignoring invalid distribution -pencv-python (c:\\users\\fauzi family\\appdata\\roaming\\python\\python310\\site-packages)\n",
      "WARNING: Ignoring invalid distribution -pencv-python (c:\\users\\fauzi family\\appdata\\roaming\\python\\python310\\site-packages)\n",
      "    WARNING: Ignoring invalid distribution -pencv-python (c:\\users\\fauzi family\\appdata\\roaming\\python\\python310\\site-packages)\n",
      "WARNING: Ignoring invalid distribution -pencv-python (c:\\users\\fauzi family\\appdata\\roaming\\python\\python310\\site-packages)\n",
      "WARNING: Ignoring invalid distribution -pencv-python (c:\\users\\fauzi family\\appdata\\roaming\\python\\python310\\site-packages)\n",
      "WARNING: Ignoring invalid distribution -pencv-python (c:\\users\\fauzi family\\appdata\\roaming\\python\\python310\\site-packages)\n",
      "WARNING: Ignoring invalid distribution -pencv-python (c:\\users\\fauzi family\\appdata\\roaming\\python\\python310\\site-packages)\n",
      "WARNING: Ignoring invalid distribution -pencv-python (c:\\users\\fauzi family\\appdata\\roaming\\python\\python310\\site-packages)\n",
      "WARNING: There was an error checking the latest version of pip.\n"
     ]
    },
    {
     "name": "stdout",
     "output_type": "stream",
     "text": [
      "\n",
      "Collecting pydot\n",
      "  Downloading pydot-3.0.2-py3-none-any.whl (35 kB)\n",
      "Collecting pyparsing>=3.0.9\n",
      "  Downloading pyparsing-3.1.4-py3-none-any.whl (104 kB)\n",
      "     -------------------------------------- 104.1/104.1 kB 1.5 MB/s eta 0:00:00\n",
      "Installing collected packages: pyparsing, pydot\n",
      "  Attempting uninstall: pyparsing\n",
      "    Found existing installation: pyparsing 3.0.7\n",
      "    Uninstalling pyparsing-3.0.7:\n",
      "      Successfully uninstalled pyparsing-3.0.7\n",
      "Successfully installed pydot-3.0.2 pyparsing-3.1.4\n"
     ]
    }
   ],
   "source": [
    "!pip install pydot"
   ]
  },
  {
   "cell_type": "code",
   "execution_count": 38,
   "metadata": {},
   "outputs": [
    {
     "data": {
      "text/plain": [
       "[<keras.layers.core.flatten.Flatten at 0x27d93909c00>,\n",
       " <keras.layers.core.flatten.Flatten at 0x27dae340610>,\n",
       " <keras.layers.core.dense.Dense at 0x27d9be6c0a0>,\n",
       " <keras.layers.core.dense.Dense at 0x27db13ad2a0>,\n",
       " <keras.layers.core.dense.Dense at 0x27db13ac8b0>]"
      ]
     },
     "execution_count": 38,
     "metadata": {},
     "output_type": "execute_result"
    }
   ],
   "source": [
    "model.layers"
   ]
  },
  {
   "cell_type": "code",
   "execution_count": 46,
   "metadata": {},
   "outputs": [
    {
     "data": {
      "text/plain": [
       "'dense_6'"
      ]
     },
     "execution_count": 46,
     "metadata": {},
     "output_type": "execute_result"
    }
   ],
   "source": [
    "model.layers[1].name"
   ]
  },
  {
   "cell_type": "code",
   "execution_count": 47,
   "metadata": {},
   "outputs": [],
   "source": [
    "hidden1 = model.layers[1]"
   ]
  },
  {
   "cell_type": "code",
   "execution_count": 49,
   "metadata": {},
   "outputs": [
    {
     "data": {
      "text/plain": [
       "'dense_6'"
      ]
     },
     "execution_count": 49,
     "metadata": {},
     "output_type": "execute_result"
    }
   ],
   "source": [
    "hidden1.name"
   ]
  },
  {
   "cell_type": "code",
   "execution_count": 50,
   "metadata": {},
   "outputs": [],
   "source": [
    "weights, biases = hidden1.get_weights()"
   ]
  },
  {
   "cell_type": "code",
   "execution_count": 53,
   "metadata": {},
   "outputs": [
    {
     "data": {
      "text/plain": [
       "(784, 300)"
      ]
     },
     "execution_count": 53,
     "metadata": {},
     "output_type": "execute_result"
    }
   ],
   "source": [
    "weights.shape"
   ]
  },
  {
   "cell_type": "code",
   "execution_count": 54,
   "metadata": {},
   "outputs": [
    {
     "data": {
      "text/plain": [
       "array([0., 0., 0., 0., 0., 0., 0., 0., 0., 0., 0., 0., 0., 0., 0., 0., 0.,\n",
       "       0., 0., 0., 0., 0., 0., 0., 0., 0., 0., 0., 0., 0., 0., 0., 0., 0.,\n",
       "       0., 0., 0., 0., 0., 0., 0., 0., 0., 0., 0., 0., 0., 0., 0., 0., 0.,\n",
       "       0., 0., 0., 0., 0., 0., 0., 0., 0., 0., 0., 0., 0., 0., 0., 0., 0.,\n",
       "       0., 0., 0., 0., 0., 0., 0., 0., 0., 0., 0., 0., 0., 0., 0., 0., 0.,\n",
       "       0., 0., 0., 0., 0., 0., 0., 0., 0., 0., 0., 0., 0., 0., 0., 0., 0.,\n",
       "       0., 0., 0., 0., 0., 0., 0., 0., 0., 0., 0., 0., 0., 0., 0., 0., 0.,\n",
       "       0., 0., 0., 0., 0., 0., 0., 0., 0., 0., 0., 0., 0., 0., 0., 0., 0.,\n",
       "       0., 0., 0., 0., 0., 0., 0., 0., 0., 0., 0., 0., 0., 0., 0., 0., 0.,\n",
       "       0., 0., 0., 0., 0., 0., 0., 0., 0., 0., 0., 0., 0., 0., 0., 0., 0.,\n",
       "       0., 0., 0., 0., 0., 0., 0., 0., 0., 0., 0., 0., 0., 0., 0., 0., 0.,\n",
       "       0., 0., 0., 0., 0., 0., 0., 0., 0., 0., 0., 0., 0., 0., 0., 0., 0.,\n",
       "       0., 0., 0., 0., 0., 0., 0., 0., 0., 0., 0., 0., 0., 0., 0., 0., 0.,\n",
       "       0., 0., 0., 0., 0., 0., 0., 0., 0., 0., 0., 0., 0., 0., 0., 0., 0.,\n",
       "       0., 0., 0., 0., 0., 0., 0., 0., 0., 0., 0., 0., 0., 0., 0., 0., 0.,\n",
       "       0., 0., 0., 0., 0., 0., 0., 0., 0., 0., 0., 0., 0., 0., 0., 0., 0.,\n",
       "       0., 0., 0., 0., 0., 0., 0., 0., 0., 0., 0., 0., 0., 0., 0., 0., 0.,\n",
       "       0., 0., 0., 0., 0., 0., 0., 0., 0., 0., 0.], dtype=float32)"
      ]
     },
     "execution_count": 54,
     "metadata": {},
     "output_type": "execute_result"
    }
   ],
   "source": [
    "biases"
   ]
  },
  {
   "cell_type": "code",
   "execution_count": 55,
   "metadata": {},
   "outputs": [
    {
     "data": {
      "text/plain": [
       "(300,)"
      ]
     },
     "execution_count": 55,
     "metadata": {},
     "output_type": "execute_result"
    }
   ],
   "source": [
    "biases.shape"
   ]
  },
  {
   "cell_type": "code",
   "execution_count": 56,
   "metadata": {},
   "outputs": [],
   "source": [
    "model.compile(loss='sparse_categorical_crossentropy', optimizer='sgd', metrics=['accuracy']) "
   ]
  },
  {
   "cell_type": "code",
   "execution_count": 58,
   "metadata": {},
   "outputs": [
    {
     "name": "stdout",
     "output_type": "stream",
     "text": [
      "Epoch 1/30\n",
      "1719/1719 [==============================] - 15s 9ms/step - loss: 0.3614 - accuracy: 0.8723 - val_loss: 0.3661 - val_accuracy: 0.8734\n",
      "Epoch 2/30\n",
      "1719/1719 [==============================] - 17s 10ms/step - loss: 0.3496 - accuracy: 0.8763 - val_loss: 0.3487 - val_accuracy: 0.8772\n",
      "Epoch 3/30\n",
      "1719/1719 [==============================] - 17s 10ms/step - loss: 0.3397 - accuracy: 0.8783 - val_loss: 0.3435 - val_accuracy: 0.8786\n",
      "Epoch 4/30\n",
      "1719/1719 [==============================] - 19s 11ms/step - loss: 0.3299 - accuracy: 0.8821 - val_loss: 0.3367 - val_accuracy: 0.8764\n",
      "Epoch 5/30\n",
      "1719/1719 [==============================] - 16s 9ms/step - loss: 0.3217 - accuracy: 0.8843 - val_loss: 0.3431 - val_accuracy: 0.8730\n",
      "Epoch 6/30\n",
      "1719/1719 [==============================] - 19s 11ms/step - loss: 0.3132 - accuracy: 0.8874 - val_loss: 0.3227 - val_accuracy: 0.8856\n",
      "Epoch 7/30\n",
      "1719/1719 [==============================] - 18s 10ms/step - loss: 0.3070 - accuracy: 0.8892 - val_loss: 0.3232 - val_accuracy: 0.8832\n",
      "Epoch 8/30\n",
      "1719/1719 [==============================] - 17s 10ms/step - loss: 0.2998 - accuracy: 0.8916 - val_loss: 0.3265 - val_accuracy: 0.8818\n",
      "Epoch 9/30\n",
      "1719/1719 [==============================] - 19s 11ms/step - loss: 0.2926 - accuracy: 0.8946 - val_loss: 0.3208 - val_accuracy: 0.8812\n",
      "Epoch 10/30\n",
      "1719/1719 [==============================] - 22s 13ms/step - loss: 0.2862 - accuracy: 0.8964 - val_loss: 0.3278 - val_accuracy: 0.8800\n",
      "Epoch 11/30\n",
      "1719/1719 [==============================] - 21s 12ms/step - loss: 0.2812 - accuracy: 0.8975 - val_loss: 0.3280 - val_accuracy: 0.8804\n",
      "Epoch 12/30\n",
      "1719/1719 [==============================] - 23s 13ms/step - loss: 0.2745 - accuracy: 0.9009 - val_loss: 0.3044 - val_accuracy: 0.8916\n",
      "Epoch 13/30\n",
      "1719/1719 [==============================] - 23s 13ms/step - loss: 0.2701 - accuracy: 0.9021 - val_loss: 0.3072 - val_accuracy: 0.8906\n",
      "Epoch 14/30\n",
      "1719/1719 [==============================] - 23s 13ms/step - loss: 0.2644 - accuracy: 0.9044 - val_loss: 0.3162 - val_accuracy: 0.8866\n",
      "Epoch 15/30\n",
      "1719/1719 [==============================] - 23s 14ms/step - loss: 0.2594 - accuracy: 0.9065 - val_loss: 0.3023 - val_accuracy: 0.8904\n",
      "Epoch 16/30\n",
      "1719/1719 [==============================] - 23s 13ms/step - loss: 0.2543 - accuracy: 0.9084 - val_loss: 0.3166 - val_accuracy: 0.8826\n",
      "Epoch 17/30\n",
      "1719/1719 [==============================] - 22s 13ms/step - loss: 0.2496 - accuracy: 0.9096 - val_loss: 0.3003 - val_accuracy: 0.8932\n",
      "Epoch 18/30\n",
      "1719/1719 [==============================] - 20s 12ms/step - loss: 0.2459 - accuracy: 0.9112 - val_loss: 0.3000 - val_accuracy: 0.8884\n",
      "Epoch 19/30\n",
      "1719/1719 [==============================] - 22s 13ms/step - loss: 0.2417 - accuracy: 0.9127 - val_loss: 0.3201 - val_accuracy: 0.8824\n",
      "Epoch 20/30\n",
      "1719/1719 [==============================] - 21s 12ms/step - loss: 0.2368 - accuracy: 0.9146 - val_loss: 0.3036 - val_accuracy: 0.8894\n",
      "Epoch 21/30\n",
      "1719/1719 [==============================] - 21s 12ms/step - loss: 0.2325 - accuracy: 0.9164 - val_loss: 0.3000 - val_accuracy: 0.8904\n",
      "Epoch 22/30\n",
      "1719/1719 [==============================] - 22s 13ms/step - loss: 0.2289 - accuracy: 0.9173 - val_loss: 0.3007 - val_accuracy: 0.8914\n",
      "Epoch 23/30\n",
      "1719/1719 [==============================] - 22s 13ms/step - loss: 0.2255 - accuracy: 0.9186 - val_loss: 0.3098 - val_accuracy: 0.8920\n",
      "Epoch 24/30\n",
      "1719/1719 [==============================] - 20s 12ms/step - loss: 0.2210 - accuracy: 0.9204 - val_loss: 0.2916 - val_accuracy: 0.8924\n",
      "Epoch 25/30\n",
      "1719/1719 [==============================] - 23s 13ms/step - loss: 0.2178 - accuracy: 0.9215 - val_loss: 0.3029 - val_accuracy: 0.8878\n",
      "Epoch 26/30\n",
      "1719/1719 [==============================] - 22s 13ms/step - loss: 0.2139 - accuracy: 0.9239 - val_loss: 0.3061 - val_accuracy: 0.8908\n",
      "Epoch 27/30\n",
      "1719/1719 [==============================] - 23s 13ms/step - loss: 0.2106 - accuracy: 0.9243 - val_loss: 0.2914 - val_accuracy: 0.8962\n",
      "Epoch 28/30\n",
      "1719/1719 [==============================] - 23s 14ms/step - loss: 0.2069 - accuracy: 0.9261 - val_loss: 0.2961 - val_accuracy: 0.8946\n",
      "Epoch 29/30\n",
      "1719/1719 [==============================] - 23s 13ms/step - loss: 0.2036 - accuracy: 0.9268 - val_loss: 0.2878 - val_accuracy: 0.8962\n",
      "Epoch 30/30\n",
      "1719/1719 [==============================] - 21s 12ms/step - loss: 0.1992 - accuracy: 0.9288 - val_loss: 0.3144 - val_accuracy: 0.8850\n"
     ]
    }
   ],
   "source": [
    "history = model.fit(xtrain, ytrain, epochs=30, validation_data=(xvalid, yvalid))"
   ]
  },
  {
   "cell_type": "code",
   "execution_count": 59,
   "metadata": {},
   "outputs": [],
   "source": [
    "import pandas as pd\n",
    "import matplotlib.pyplot as plt"
   ]
  },
  {
   "cell_type": "code",
   "execution_count": 63,
   "metadata": {},
   "outputs": [
    {
     "data": {
      "text/plain": [
       "(0.0, 1.0)"
      ]
     },
     "execution_count": 63,
     "metadata": {},
     "output_type": "execute_result"
    },
    {
     "data": {
      "image/png": "[encoded data removed]",
      "text/plain": [
       "<Figure size 576x360 with 1 Axes>"
      ]
     },
     "metadata": {
      "needs_background": "light"
     },
     "output_type": "display_data"
    }
   ],
   "source": [
    "pd.DataFrame(history.history).plot(figsize=(8,5))\n",
    "plt.gca().set_ylim(0,1)"
   ]
  },
  {
   "cell_type": "code",
   "execution_count": 76,
   "metadata": {},
   "outputs": [
    {
     "name": "stdout",
     "output_type": "stream",
     "text": [
      "313/313 [==============================] - 2s 6ms/step - loss: 74.2204 - accuracy: 0.8389\n"
     ]
    },
    {
     "data": {
      "text/plain": [
       "[74.22044372558594, 0.8389000296592712]"
      ]
     },
     "execution_count": 76,
     "metadata": {},
     "output_type": "execute_result"
    }
   ],
   "source": [
    "model.evaluate(xtest, ytest)"
   ]
  },
  {
   "cell_type": "code",
   "execution_count": 65,
   "metadata": {},
   "outputs": [
    {
     "data": {
      "text/plain": [
       "array([9, 2, 1], dtype=uint8)"
      ]
     },
     "execution_count": 65,
     "metadata": {},
     "output_type": "execute_result"
    }
   ],
   "source": [
    "ytest[:3]"
   ]
  },
  {
   "cell_type": "code",
   "execution_count": 66,
   "metadata": {},
   "outputs": [],
   "source": [
    "xnew = xtest[:3]\n",
    "yprobability = model.predict(xnew)\n"
   ]
  },
  {
   "cell_type": "code",
   "execution_count": 67,
   "metadata": {},
   "outputs": [
    {
     "data": {
      "text/plain": [
       "array([[0., 0., 0., 0., 0., 0., 0., 0., 0., 1.],\n",
       "       [0., 0., 1., 0., 0., 0., 0., 0., 0., 0.],\n",
       "       [0., 1., 0., 0., 0., 0., 0., 0., 0., 0.]], dtype=float32)"
      ]
     },
     "execution_count": 67,
     "metadata": {},
     "output_type": "execute_result"
    }
   ],
   "source": [
    "yprobability"
   ]
  },
  {
   "cell_type": "code",
   "execution_count": 70,
   "metadata": {},
   "outputs": [],
   "source": [
    "ypred = model.pre(xnew)\n"
   ]
  },
  {
   "cell_type": "code",
   "execution_count": 71,
   "metadata": {},
   "outputs": [
    {
     "data": {
      "text/plain": [
       "<tf.Tensor: shape=(3, 10), dtype=float32, numpy=\n",
       "array([[0., 0., 0., 0., 0., 0., 0., 0., 0., 1.],\n",
       "       [0., 0., 1., 0., 0., 0., 0., 0., 0., 0.],\n",
       "       [0., 1., 0., 0., 0., 0., 0., 0., 0., 0.]], dtype=float32)>"
      ]
     },
     "execution_count": 71,
     "metadata": {},
     "output_type": "execute_result"
    }
   ],
   "source": [
    "ypred"
   ]
  },
  {
   "cell_type": "code",
   "execution_count": 72,
   "metadata": {},
   "outputs": [],
   "source": [
    "import numpy as np"
   ]
  },
  {
   "cell_type": "code",
   "execution_count": 74,
   "metadata": {},
   "outputs": [
    {
     "ename": "IndexError",
     "evalue": "only integers, slices (`:`), ellipsis (`...`), numpy.newaxis (`None`) and integer or boolean arrays are valid indices",
     "output_type": "error",
     "traceback": [
      "\u001b[1;31m---------------------------------------------------------------------------\u001b[0m",
      "\u001b[1;31mIndexError\u001b[0m                                Traceback (most recent call last)",
      "\u001b[1;32mc:\\numerical modeling fix deep learning asu\\Maschinelles Lernen\\machine learning\\deep_learning\\deep_fauzi.ipynb Cell 41\u001b[0m line \u001b[0;36m<cell line: 1>\u001b[1;34m()\u001b[0m\n\u001b[1;32m----> <a href='vscode-notebook-cell:/c%3A/numerical%20modeling%20fix%20deep%20learning%20asu/Maschinelles%20Lernen/machine%20learning/deep_learning/deep_fauzi.ipynb#X55sZmlsZQ%3D%3D?line=0'>1</a>\u001b[0m np\u001b[39m.\u001b[39;49marray(names)[ypred]\n",
      "\u001b[1;31mIndexError\u001b[0m: only integers, slices (`:`), ellipsis (`...`), numpy.newaxis (`None`) and integer or boolean arrays are valid indices"
     ]
    }
   ],
   "source": [
    "np.array(names)[ypred]"
   ]
  },
  {
   "cell_type": "code",
   "execution_count": 75,
   "metadata": {},
   "outputs": [
    {
     "data": {
      "text/plain": [
       "['_SCALAR_UPRANKING_ON',\n",
       " '_TF_MODULE_IGNORED_PROPERTIES',\n",
       " '__annotations__',\n",
       " '__call__',\n",
       " '__class__',\n",
       " '__copy__',\n",
       " '__deepcopy__',\n",
       " '__delattr__',\n",
       " '__dict__',\n",
       " '__dir__',\n",
       " '__doc__',\n",
       " '__eq__',\n",
       " '__format__',\n",
       " '__ge__',\n",
       " '__getattribute__',\n",
       " '__getstate__',\n",
       " '__gt__',\n",
       " '__hash__',\n",
       " '__init__',\n",
       " '__init_subclass__',\n",
       " '__le__',\n",
       " '__lt__',\n",
       " '__module__',\n",
       " '__ne__',\n",
       " '__new__',\n",
       " '__reduce__',\n",
       " '__reduce_ex__',\n",
       " '__repr__',\n",
       " '__setattr__',\n",
       " '__setstate__',\n",
       " '__sizeof__',\n",
       " '__str__',\n",
       " '__subclasshook__',\n",
       " '__weakref__',\n",
       " '_activity_regularizer',\n",
       " '_add_trackable',\n",
       " '_add_trackable_child',\n",
       " '_add_variable_with_custom_getter',\n",
       " '_assert_compile_was_called',\n",
       " '_assert_weights_created',\n",
       " '_auto_track_sub_layers',\n",
       " '_autocast',\n",
       " '_autographed_call',\n",
       " '_base_model_initialized',\n",
       " '_build_graph_network_for_inferred_shape',\n",
       " '_build_input_shape',\n",
       " '_call_accepts_kwargs',\n",
       " '_call_arg_was_passed',\n",
       " '_call_fn_arg_defaults',\n",
       " '_call_fn_arg_positions',\n",
       " '_call_fn_args',\n",
       " '_call_full_argspec',\n",
       " '_callable_losses',\n",
       " '_cast_single_input',\n",
       " '_check_call_args',\n",
       " '_checkpoint_dependencies',\n",
       " '_clear_losses',\n",
       " '_cluster_coordinator',\n",
       " '_compile_was_called',\n",
       " '_compiled_trainable_state',\n",
       " '_compute_dtype',\n",
       " '_compute_dtype_object',\n",
       " '_compute_output_and_mask_jointly',\n",
       " '_compute_tensor_usage_count',\n",
       " '_configure_steps_per_execution',\n",
       " '_conform_to_reference_input',\n",
       " '_created_nodes',\n",
       " '_dedup_weights',\n",
       " '_default_training_arg',\n",
       " '_deferred_dependencies',\n",
       " '_delete_tracking',\n",
       " '_deserialization_dependencies',\n",
       " '_deserialize_from_proto',\n",
       " '_distribution_strategy',\n",
       " '_dtype',\n",
       " '_dtype_policy',\n",
       " '_dynamic',\n",
       " '_eager_losses',\n",
       " '_enable_dict_to_input_mapping',\n",
       " '_expects_mask_arg',\n",
       " '_expects_training_arg',\n",
       " '_feed_input_names',\n",
       " '_feed_input_shapes',\n",
       " '_feed_inputs',\n",
       " '_flatten',\n",
       " '_flatten_layers',\n",
       " '_flatten_modules',\n",
       " '_flatten_to_reference_inputs',\n",
       " '_functional_construction_call',\n",
       " '_gather_children_attribute',\n",
       " '_gather_saveables_for_checkpoint',\n",
       " '_get_call_arg_value',\n",
       " '_get_callback_model',\n",
       " '_get_cell_name',\n",
       " '_get_compile_args',\n",
       " '_get_existing_metric',\n",
       " '_get_input_masks',\n",
       " '_get_legacy_saved_model_children',\n",
       " '_get_node_attribute_at_index',\n",
       " '_get_optimizer',\n",
       " '_get_save_spec',\n",
       " '_get_trainable_state',\n",
       " '_graph_initialized',\n",
       " '_graph_network_add_loss',\n",
       " '_graph_network_add_metric',\n",
       " '_handle_activity_regularization',\n",
       " '_handle_deferred_dependencies',\n",
       " '_handle_deferred_layer_dependencies',\n",
       " '_handle_weight_regularization',\n",
       " '_has_explicit_input_shape',\n",
       " '_in_multi_worker_mode',\n",
       " '_inbound_nodes',\n",
       " '_inbound_nodes_value',\n",
       " '_infer_output_signature',\n",
       " '_inferred_input_shape',\n",
       " '_init_batch_counters',\n",
       " '_init_call_fn_args',\n",
       " '_init_graph_network',\n",
       " '_init_set_name',\n",
       " '_initial_weights',\n",
       " '_input_coordinates',\n",
       " '_input_dtype',\n",
       " '_input_layers',\n",
       " '_input_spec',\n",
       " '_insert_layers',\n",
       " '_instrument_layer_creation',\n",
       " '_instrumented_keras_api',\n",
       " '_instrumented_keras_layer_class',\n",
       " '_instrumented_keras_model_class',\n",
       " '_is_compiled',\n",
       " '_is_graph_network',\n",
       " '_is_layer',\n",
       " '_is_layer_name_unique',\n",
       " '_is_model_for_instrumentation',\n",
       " '_jit_compile',\n",
       " '_keras_api_names',\n",
       " '_keras_api_names_v1',\n",
       " '_keras_tensor_symbolic_call',\n",
       " '_layer_call_argspecs',\n",
       " '_layer_checkpoint_dependencies',\n",
       " '_list_extra_dependencies_for_serialization',\n",
       " '_list_functions_for_serialization',\n",
       " '_lookup_dependency',\n",
       " '_losses',\n",
       " '_map_resources',\n",
       " '_maybe_build',\n",
       " '_maybe_cast_inputs',\n",
       " '_maybe_create_attribute',\n",
       " '_maybe_initialize_trackable',\n",
       " '_maybe_load_initial_epoch_from_ckpt',\n",
       " '_metrics',\n",
       " '_metrics_lock',\n",
       " '_must_restore_from_config',\n",
       " '_name',\n",
       " '_name_based_attribute_restore',\n",
       " '_name_based_restores',\n",
       " '_name_scope',\n",
       " '_nested_inputs',\n",
       " '_nested_outputs',\n",
       " '_network_nodes',\n",
       " '_no_dependency',\n",
       " '_nodes_by_depth',\n",
       " '_non_trainable_weights',\n",
       " '_obj_reference_counts',\n",
       " '_obj_reference_counts_dict',\n",
       " '_object_identifier',\n",
       " '_outbound_nodes',\n",
       " '_outbound_nodes_value',\n",
       " '_outer_name_scope',\n",
       " '_output_coordinates',\n",
       " '_output_layers',\n",
       " '_output_mask_cache',\n",
       " '_output_shape_cache',\n",
       " '_output_tensor_cache',\n",
       " '_predict_counter',\n",
       " '_preload_simple_restoration',\n",
       " '_preserve_input_structure_in_config',\n",
       " '_reset_compile_cache',\n",
       " '_restore_from_checkpoint_position',\n",
       " '_run_eagerly',\n",
       " '_run_internal_graph',\n",
       " '_saved_model_arg_spec',\n",
       " '_saved_model_inputs_spec',\n",
       " '_self_name_based_restores',\n",
       " '_self_saveable_object_factories',\n",
       " '_self_setattr_tracking',\n",
       " '_self_tracked_trackables',\n",
       " '_self_unconditional_checkpoint_dependencies',\n",
       " '_self_unconditional_deferred_dependencies',\n",
       " '_self_unconditional_dependency_names',\n",
       " '_self_update_uid',\n",
       " '_serialize_to_proto',\n",
       " '_set_call_arg_value',\n",
       " '_set_connectivity_metadata',\n",
       " '_set_dtype_policy',\n",
       " '_set_inputs',\n",
       " '_set_mask_keras_history_checked',\n",
       " '_set_mask_metadata',\n",
       " '_set_output_names',\n",
       " '_set_save_spec',\n",
       " '_set_trainable_state',\n",
       " '_set_training_mode',\n",
       " '_setattr_tracking',\n",
       " '_should_cast_single_input',\n",
       " '_should_compute_mask',\n",
       " '_should_eval',\n",
       " '_single_restoration_from_checkpoint_position',\n",
       " '_split_out_first_arg',\n",
       " '_stateful',\n",
       " '_steps_per_execution',\n",
       " '_supports_masking',\n",
       " '_symbolic_call',\n",
       " '_tensor_usage_count',\n",
       " '_test_counter',\n",
       " '_tf_api_names',\n",
       " '_tf_api_names_v1',\n",
       " '_thread_local',\n",
       " '_track_trackable',\n",
       " '_trackable_children',\n",
       " '_trackable_saved_model_saver',\n",
       " '_trackable_saver',\n",
       " '_tracking_metadata',\n",
       " '_train_counter',\n",
       " '_trainable',\n",
       " '_trainable_weights',\n",
       " '_training_state',\n",
       " '_unconditional_checkpoint_dependencies',\n",
       " '_unconditional_dependency_names',\n",
       " '_undeduplicated_weights',\n",
       " '_update_uid',\n",
       " '_updated_config',\n",
       " '_updates',\n",
       " '_use_input_spec_as_call_signature',\n",
       " '_use_legacy_deferred_behavior',\n",
       " '_validate_compile',\n",
       " '_validate_graph_inputs_and_outputs',\n",
       " '_validate_target_and_loss',\n",
       " 'activity_regularizer',\n",
       " 'add',\n",
       " 'add_loss',\n",
       " 'add_metric',\n",
       " 'add_update',\n",
       " 'add_variable',\n",
       " 'add_weight',\n",
       " 'apply',\n",
       " 'build',\n",
       " 'built',\n",
       " 'call',\n",
       " 'compile',\n",
       " 'compiled_loss',\n",
       " 'compiled_metrics',\n",
       " 'compute_dtype',\n",
       " 'compute_loss',\n",
       " 'compute_mask',\n",
       " 'compute_metrics',\n",
       " 'compute_output_shape',\n",
       " 'compute_output_signature',\n",
       " 'count_params',\n",
       " 'distribute_strategy',\n",
       " 'dtype',\n",
       " 'dtype_policy',\n",
       " 'dynamic',\n",
       " 'evaluate',\n",
       " 'evaluate_generator',\n",
       " 'finalize_state',\n",
       " 'fit',\n",
       " 'fit_generator',\n",
       " 'from_config',\n",
       " 'get_config',\n",
       " 'get_input_at',\n",
       " 'get_input_mask_at',\n",
       " 'get_input_shape_at',\n",
       " 'get_layer',\n",
       " 'get_losses_for',\n",
       " 'get_output_at',\n",
       " 'get_output_mask_at',\n",
       " 'get_output_shape_at',\n",
       " 'get_updates_for',\n",
       " 'get_weights',\n",
       " 'history',\n",
       " 'inbound_nodes',\n",
       " 'input',\n",
       " 'input_mask',\n",
       " 'input_names',\n",
       " 'input_shape',\n",
       " 'input_spec',\n",
       " 'inputs',\n",
       " 'layers',\n",
       " 'load_weights',\n",
       " 'loss',\n",
       " 'losses',\n",
       " 'make_predict_function',\n",
       " 'make_test_function',\n",
       " 'make_train_function',\n",
       " 'metrics',\n",
       " 'metrics_names',\n",
       " 'name',\n",
       " 'name_scope',\n",
       " 'non_trainable_variables',\n",
       " 'non_trainable_weights',\n",
       " 'optimizer',\n",
       " 'outbound_nodes',\n",
       " 'output',\n",
       " 'output_mask',\n",
       " 'output_names',\n",
       " 'output_shape',\n",
       " 'outputs',\n",
       " 'pop',\n",
       " 'predict',\n",
       " 'predict_function',\n",
       " 'predict_generator',\n",
       " 'predict_on_batch',\n",
       " 'predict_step',\n",
       " 'reset_metrics',\n",
       " 'reset_states',\n",
       " 'run_eagerly',\n",
       " 'save',\n",
       " 'save_spec',\n",
       " 'save_weights',\n",
       " 'set_weights',\n",
       " 'state_updates',\n",
       " 'stateful',\n",
       " 'stop_training',\n",
       " 'submodules',\n",
       " 'summary',\n",
       " 'supports_masking',\n",
       " 'test_function',\n",
       " 'test_on_batch',\n",
       " 'test_step',\n",
       " 'to_json',\n",
       " 'to_yaml',\n",
       " 'train_function',\n",
       " 'train_on_batch',\n",
       " 'train_step',\n",
       " 'train_tf_function',\n",
       " 'trainable',\n",
       " 'trainable_variables',\n",
       " 'trainable_weights',\n",
       " 'updates',\n",
       " 'variable_dtype',\n",
       " 'variables',\n",
       " 'weights',\n",
       " 'with_name_scope']"
      ]
     },
     "execution_count": 75,
     "metadata": {},
     "output_type": "execute_result"
    }
   ],
   "source": [
    "#same = complete\n",
    "dir(model)"
   ]
  },
  {
   "cell_type": "code",
   "execution_count": 87,
   "metadata": {},
   "outputs": [
    {
     "ename": "TypeError",
     "evalue": "only length-1 arrays can be converted to Python scalars",
     "output_type": "error",
     "traceback": [
      "\u001b[1;31m---------------------------------------------------------------------------\u001b[0m",
      "\u001b[1;31mTypeError\u001b[0m                                 Traceback (most recent call last)",
      "\u001b[1;32mc:\\numerical modeling fix deep learning asu\\Maschinelles Lernen\\machine learning\\deep_learning\\deep_fauzi.ipynb Cell 43\u001b[0m line \u001b[0;36m<cell line: 1>\u001b[1;34m()\u001b[0m\n\u001b[1;32m----> <a href='vscode-notebook-cell:/c%3A/numerical%20modeling%20fix%20deep%20learning%20asu/Maschinelles%20Lernen/machine%20learning/deep_learning/deep_fauzi.ipynb#X60sZmlsZQ%3D%3D?line=0'>1</a>\u001b[0m ypredf \u001b[39m=\u001b[39m \u001b[39mint\u001b[39;49m(model\u001b[39m.\u001b[39;49mpredict_on_batch(xnew))\n",
      "\u001b[1;31mTypeError\u001b[0m: only length-1 arrays can be converted to Python scalars"
     ]
    }
   ],
   "source": [
    "ypredf = model.predict_on_batch(xnew)"
   ]
  },
  {
   "cell_type": "code",
   "execution_count": 94,
   "metadata": {},
   "outputs": [],
   "source": [
    "ypredint = np.int64(ypred)"
   ]
  },
  {
   "cell_type": "code",
   "execution_count": 95,
   "metadata": {},
   "outputs": [
    {
     "data": {
      "text/plain": [
       "array([['top', 'top', 'top', 'top', 'top', 'top', 'top', 'top', 'top',\n",
       "        'trouser'],\n",
       "       ['top', 'top', 'trouser', 'top', 'top', 'top', 'top', 'top',\n",
       "        'top', 'top'],\n",
       "       ['top', 'trouser', 'top', 'top', 'top', 'top', 'top', 'top',\n",
       "        'top', 'top']], dtype='<U8')"
      ]
     },
     "execution_count": 95,
     "metadata": {},
     "output_type": "execute_result"
    }
   ],
   "source": [
    "np.array(names)[ypredint]"
   ]
  },
  {
   "cell_type": "markdown",
   "metadata": {},
   "source": [
    "<h1> Building a regression MLP Using the Sequential API"
   ]
  },
  {
   "cell_type": "code",
   "execution_count": 1,
   "metadata": {},
   "outputs": [],
   "source": [
    "from sklearn.datasets import fetch_california_housing\n",
    "from sklearn.model_selection import train_test_split \n",
    "from sklearn.preprocessing import StandardScaler"
   ]
  },
  {
   "cell_type": "code",
   "execution_count": 2,
   "metadata": {},
   "outputs": [],
   "source": [
    "housing = fetch_california_housing()"
   ]
  },
  {
   "cell_type": "code",
   "execution_count": 3,
   "metadata": {},
   "outputs": [
    {
     "data": {
      "text/plain": [
       "{'data': array([[   8.3252    ,   41.        ,    6.98412698, ...,    2.55555556,\n",
       "           37.88      , -122.23      ],\n",
       "        [   8.3014    ,   21.        ,    6.23813708, ...,    2.10984183,\n",
       "           37.86      , -122.22      ],\n",
       "        [   7.2574    ,   52.        ,    8.28813559, ...,    2.80225989,\n",
       "           37.85      , -122.24      ],\n",
       "        ...,\n",
       "        [   1.7       ,   17.        ,    5.20554273, ...,    2.3256351 ,\n",
       "           39.43      , -121.22      ],\n",
       "        [   1.8672    ,   18.        ,    5.32951289, ...,    2.12320917,\n",
       "           39.43      , -121.32      ],\n",
       "        [   2.3886    ,   16.        ,    5.25471698, ...,    2.61698113,\n",
       "           39.37      , -121.24      ]]),\n",
       " 'target': array([4.526, 3.585, 3.521, ..., 0.923, 0.847, 0.894]),\n",
       " 'frame': None,\n",
       " 'target_names': ['MedHouseVal'],\n",
       " 'feature_names': ['MedInc',\n",
       "  'HouseAge',\n",
       "  'AveRooms',\n",
       "  'AveBedrms',\n",
       "  'Population',\n",
       "  'AveOccup',\n",
       "  'Latitude',\n",
       "  'Longitude'],\n",
       " 'DESCR': '.. _california_housing_dataset:\\n\\nCalifornia Housing dataset\\n--------------------------\\n\\n**Data Set Characteristics:**\\n\\n    :Number of Instances: 20640\\n\\n    :Number of Attributes: 8 numeric, predictive attributes and the target\\n\\n    :Attribute Information:\\n        - MedInc        median income in block group\\n        - HouseAge      median house age in block group\\n        - AveRooms      average number of rooms per household\\n        - AveBedrms     average number of bedrooms per household\\n        - Population    block group population\\n        - AveOccup      average number of household members\\n        - Latitude      block group latitude\\n        - Longitude     block group longitude\\n\\n    :Missing Attribute Values: None\\n\\nThis dataset was obtained from the StatLib repository.\\nhttps://www.dcc.fc.up.pt/~ltorgo/Regression/cal_housing.html\\n\\nThe target variable is the median house value for California districts,\\nexpressed in hundreds of thousands of dollars ($100,000).\\n\\nThis dataset was derived from the 1990 U.S. census, using one row per census\\nblock group. A block group is the smallest geographical unit for which the U.S.\\nCensus Bureau publishes sample data (a block group typically has a population\\nof 600 to 3,000 people).\\n\\nAn household is a group of people residing within a home. Since the average\\nnumber of rooms and bedrooms in this dataset are provided per household, these\\ncolumns may take surpinsingly large values for block groups with few households\\nand many empty houses, such as vacation resorts.\\n\\nIt can be downloaded/loaded using the\\n:func:`sklearn.datasets.fetch_california_housing` function.\\n\\n.. topic:: References\\n\\n    - Pace, R. Kelley and Ronald Barry, Sparse Spatial Autoregressions,\\n      Statistics and Probability Letters, 33 (1997) 291-297\\n'}"
      ]
     },
     "execution_count": 3,
     "metadata": {},
     "output_type": "execute_result"
    }
   ],
   "source": [
    "housing"
   ]
  },
  {
   "cell_type": "code",
   "execution_count": 4,
   "metadata": {},
   "outputs": [],
   "source": [
    "xtrain, xtest, ytrain, ytest = train_test_split(housing.data, housing.target)"
   ]
  },
  {
   "cell_type": "code",
   "execution_count": 5,
   "metadata": {},
   "outputs": [],
   "source": [
    "xtrain, xvalid, ytrain, yvalid = train_test_split(xtrain, ytrain)"
   ]
  },
  {
   "cell_type": "code",
   "execution_count": 6,
   "metadata": {},
   "outputs": [],
   "source": [
    "scaler = StandardScaler()"
   ]
  },
  {
   "cell_type": "code",
   "execution_count": 8,
   "metadata": {},
   "outputs": [
    {
     "data": {
      "text/html": [
       "<style>#sk-container-id-1 {color: black;background-color: white;}#sk-container-id-1 pre{padding: 0;}#sk-container-id-1 div.sk-toggleable {background-color: white;}#sk-container-id-1 label.sk-toggleable__label {cursor: pointer;display: block;width: 100%;margin-bottom: 0;padding: 0.3em;box-sizing: border-box;text-align: center;}#sk-container-id-1 label.sk-toggleable__label-arrow:before {content: \"▸\";float: left;margin-right: 0.25em;color: #696969;}#sk-container-id-1 label.sk-toggleable__label-arrow:hover:before {color: black;}#sk-container-id-1 div.sk-estimator:hover label.sk-toggleable__label-arrow:before {color: black;}#sk-container-id-1 div.sk-toggleable__content {max-height: 0;max-width: 0;overflow: hidden;text-align: left;background-color: #f0f8ff;}#sk-container-id-1 div.sk-toggleable__content pre {margin: 0.2em;color: black;border-radius: 0.25em;background-color: #f0f8ff;}#sk-container-id-1 input.sk-toggleable__control:checked~div.sk-toggleable__content {max-height: 200px;max-width: 100%;overflow: auto;}#sk-container-id-1 input.sk-toggleable__control:checked~label.sk-toggleable__label-arrow:before {content: \"▾\";}#sk-container-id-1 div.sk-estimator input.sk-toggleable__control:checked~label.sk-toggleable__label {background-color: #d4ebff;}#sk-container-id-1 div.sk-label input.sk-toggleable__control:checked~label.sk-toggleable__label {background-color: #d4ebff;}#sk-container-id-1 input.sk-hidden--visually {border: 0;clip: rect(1px 1px 1px 1px);clip: rect(1px, 1px, 1px, 1px);height: 1px;margin: -1px;overflow: hidden;padding: 0;position: absolute;width: 1px;}#sk-container-id-1 div.sk-estimator {font-family: monospace;background-color: #f0f8ff;border: 1px dotted black;border-radius: 0.25em;box-sizing: border-box;margin-bottom: 0.5em;}#sk-container-id-1 div.sk-estimator:hover {background-color: #d4ebff;}#sk-container-id-1 div.sk-parallel-item::after {content: \"\";width: 100%;border-bottom: 1px solid gray;flex-grow: 1;}#sk-container-id-1 div.sk-label:hover label.sk-toggleable__label {background-color: #d4ebff;}#sk-container-id-1 div.sk-serial::before {content: \"\";position: absolute;border-left: 1px solid gray;box-sizing: border-box;top: 0;bottom: 0;left: 50%;z-index: 0;}#sk-container-id-1 div.sk-serial {display: flex;flex-direction: column;align-items: center;background-color: white;padding-right: 0.2em;padding-left: 0.2em;position: relative;}#sk-container-id-1 div.sk-item {position: relative;z-index: 1;}#sk-container-id-1 div.sk-parallel {display: flex;align-items: stretch;justify-content: center;background-color: white;position: relative;}#sk-container-id-1 div.sk-item::before, #sk-container-id-1 div.sk-parallel-item::before {content: \"\";position: absolute;border-left: 1px solid gray;box-sizing: border-box;top: 0;bottom: 0;left: 50%;z-index: -1;}#sk-container-id-1 div.sk-parallel-item {display: flex;flex-direction: column;z-index: 1;position: relative;background-color: white;}#sk-container-id-1 div.sk-parallel-item:first-child::after {align-self: flex-end;width: 50%;}#sk-container-id-1 div.sk-parallel-item:last-child::after {align-self: flex-start;width: 50%;}#sk-container-id-1 div.sk-parallel-item:only-child::after {width: 0;}#sk-container-id-1 div.sk-dashed-wrapped {border: 1px dashed gray;margin: 0 0.4em 0.5em 0.4em;box-sizing: border-box;padding-bottom: 0.4em;background-color: white;}#sk-container-id-1 div.sk-label label {font-family: monospace;font-weight: bold;display: inline-block;line-height: 1.2em;}#sk-container-id-1 div.sk-label-container {text-align: center;}#sk-container-id-1 div.sk-container {/* jupyter's `normalize.less` sets `[hidden] { display: none; }` but bootstrap.min.css set `[hidden] { display: none !important; }` so we also need the `!important` here to be able to override the default hidden behavior on the sphinx rendered scikit-learn.org. See: https://github.com/scikit-learn/scikit-learn/issues/21755 */display: inline-block !important;position: relative;}#sk-container-id-1 div.sk-text-repr-fallback {display: none;}</style><div id=\"sk-container-id-1\" class=\"sk-top-container\"><div class=\"sk-text-repr-fallback\"><pre>StandardScaler()</pre><b>In a Jupyter environment, please rerun this cell to show the HTML representation or trust the notebook. <br />On GitHub, the HTML representation is unable to render, please try loading this page with nbviewer.org.</b></div><div class=\"sk-container\" hidden><div class=\"sk-item\"><div class=\"sk-estimator sk-toggleable\"><input class=\"sk-toggleable__control sk-hidden--visually\" id=\"sk-estimator-id-1\" type=\"checkbox\" checked><label for=\"sk-estimator-id-1\" class=\"sk-toggleable__label sk-toggleable__label-arrow\">StandardScaler</label><div class=\"sk-toggleable__content\"><pre>StandardScaler()</pre></div></div></div></div></div>"
      ],
      "text/plain": [
       "StandardScaler()"
      ]
     },
     "execution_count": 8,
     "metadata": {},
     "output_type": "execute_result"
    }
   ],
   "source": [
    "scaler"
   ]
  },
  {
   "cell_type": "code",
   "execution_count": 9,
   "metadata": {},
   "outputs": [],
   "source": [
    "xtrain = scaler.fit_transform(xtrain)  \n",
    "xvalid = scaler.transform(xvalid) \n",
    "xtest = scaler.transform(xtest) \n"
   ]
  },
  {
   "cell_type": "code",
   "execution_count": 20,
   "metadata": {},
   "outputs": [
    {
     "data": {
      "text/plain": [
       "array([[-0.83093918, -1.48037788, -0.85202924, ...,  0.01713435,\n",
       "        -0.68828257,  0.60087144],\n",
       "       [ 0.28245777,  0.19108616, -0.3311152 , ..., -0.04381759,\n",
       "        -0.8005559 ,  0.78006251],\n",
       "       [-0.23535885,  0.03189911,  0.70982002, ..., -0.03188309,\n",
       "        -0.58536535,  1.21808512],\n",
       "       ...,\n",
       "       [ 0.34291749,  0.50946027, -0.46344403, ..., -0.07204789,\n",
       "        -0.56665313, -0.0760726 ],\n",
       "       [ 1.76961043,  0.58905379,  0.28819301, ..., -0.04166368,\n",
       "        -0.82394617,  0.58593885],\n",
       "       [-1.61655065,  0.74824084, -0.47578819, ...,  0.01000712,\n",
       "         0.99113931, -1.30054491]])"
      ]
     },
     "execution_count": 20,
     "metadata": {},
     "output_type": "execute_result"
    }
   ],
   "source": [
    "xtrain"
   ]
  },
  {
   "cell_type": "code",
   "execution_count": 21,
   "metadata": {},
   "outputs": [
    {
     "data": {
      "text/plain": [
       "array([[-0.52337643, -1.16200378,  0.1788191 , ..., -0.04467314,\n",
       "         1.97353093, -1.00189313],\n",
       "       [-0.93903698,  0.42986674, -0.64338194, ...,  0.01724395,\n",
       "        -0.60407757,  0.25742189],\n",
       "       [-0.56543763,  0.58905379, -0.05135527, ..., -0.04154353,\n",
       "         0.52801183, -0.09100519],\n",
       "       ...,\n",
       "       [-1.21282568, -0.36606852, -1.0018155 , ..., -0.10154337,\n",
       "        -0.72102896,  0.61580403],\n",
       "       [-0.87143677, -1.00281672,  0.30838351, ..., -0.07653887,\n",
       "        -0.40759925,  0.69046697],\n",
       "       [-0.53353992,  0.82783437, -0.63668243, ...,  0.06317526,\n",
       "        -0.86604867,  0.65064673]])"
      ]
     },
     "execution_count": 21,
     "metadata": {},
     "output_type": "execute_result"
    }
   ],
   "source": [
    "xvalid"
   ]
  },
  {
   "cell_type": "code",
   "execution_count": 22,
   "metadata": {},
   "outputs": [
    {
     "data": {
      "text/plain": [
       "array([2.214  , 1.744  , 1.041  , ..., 3.404  , 5.00001, 0.818  ])"
      ]
     },
     "execution_count": 22,
     "metadata": {},
     "output_type": "execute_result"
    }
   ],
   "source": [
    "ytrain"
   ]
  },
  {
   "cell_type": "code",
   "execution_count": 23,
   "metadata": {},
   "outputs": [
    {
     "data": {
      "text/plain": [
       "array([1.196, 1.583, 0.723, ..., 3.25 , 1.464, 1.72 ])"
      ]
     },
     "execution_count": 23,
     "metadata": {},
     "output_type": "execute_result"
    }
   ],
   "source": [
    "yvalid"
   ]
  },
  {
   "cell_type": "code",
   "execution_count": 10,
   "metadata": {},
   "outputs": [],
   "source": [
    "import keras"
   ]
  },
  {
   "cell_type": "code",
   "execution_count": 25,
   "metadata": {},
   "outputs": [],
   "source": [
    "model = keras.models.Sequential([\n",
    "    keras.layers.Dense(30, activation='relu', input_shape= xtrain.shape[1:]),\n",
    "    keras.layers.Dense(1)\n",
    "])"
   ]
  },
  {
   "cell_type": "code",
   "execution_count": 26,
   "metadata": {},
   "outputs": [
    {
     "name": "stdout",
     "output_type": "stream",
     "text": [
      "Epoch 1/20\n"
     ]
    },
    {
     "name": "stdout",
     "output_type": "stream",
     "text": [
      "363/363 [==============================] - 4s 8ms/step - loss: 1.0345 - val_loss: 0.5711\n",
      "Epoch 2/20\n",
      "363/363 [==============================] - 2s 5ms/step - loss: 0.5053 - val_loss: 0.4766\n",
      "Epoch 3/20\n",
      "363/363 [==============================] - 2s 5ms/step - loss: 0.4594 - val_loss: 0.4595\n",
      "Epoch 4/20\n",
      "363/363 [==============================] - 2s 5ms/step - loss: 0.4442 - val_loss: 0.4468\n",
      "Epoch 5/20\n",
      "363/363 [==============================] - 2s 5ms/step - loss: 0.4336 - val_loss: 0.4436\n",
      "Epoch 6/20\n",
      "363/363 [==============================] - 2s 5ms/step - loss: 0.4313 - val_loss: 0.4304\n",
      "Epoch 7/20\n",
      "363/363 [==============================] - 2s 5ms/step - loss: 0.4196 - val_loss: 0.4361\n",
      "Epoch 8/20\n",
      "363/363 [==============================] - 2s 4ms/step - loss: 0.4146 - val_loss: 0.4190\n",
      "Epoch 9/20\n",
      "363/363 [==============================] - 2s 5ms/step - loss: 0.4111 - val_loss: 0.4196\n",
      "Epoch 10/20\n",
      "363/363 [==============================] - 2s 5ms/step - loss: 0.4053 - val_loss: 0.4106\n",
      "Epoch 11/20\n",
      "363/363 [==============================] - 2s 5ms/step - loss: 0.4004 - val_loss: 0.4112\n",
      "Epoch 12/20\n",
      "363/363 [==============================] - 2s 7ms/step - loss: 0.4002 - val_loss: 0.4119\n",
      "Epoch 13/20\n",
      "363/363 [==============================] - 2s 6ms/step - loss: 0.3941 - val_loss: 0.4036\n",
      "Epoch 14/20\n",
      "363/363 [==============================] - 2s 7ms/step - loss: 0.3928 - val_loss: 0.4046\n",
      "Epoch 15/20\n",
      "363/363 [==============================] - 2s 5ms/step - loss: 0.3892 - val_loss: 0.3943\n",
      "Epoch 16/20\n",
      "363/363 [==============================] - 2s 6ms/step - loss: 0.3930 - val_loss: 0.3937\n",
      "Epoch 17/20\n",
      "363/363 [==============================] - 1s 4ms/step - loss: 0.3835 - val_loss: 0.3881\n",
      "Epoch 18/20\n",
      "363/363 [==============================] - 2s 7ms/step - loss: 0.3800 - val_loss: 0.3847\n",
      "Epoch 19/20\n",
      "363/363 [==============================] - 4s 11ms/step - loss: 0.3769 - val_loss: 0.3858\n",
      "Epoch 20/20\n",
      "363/363 [==============================] - 2s 6ms/step - loss: 0.3754 - val_loss: 0.3849\n"
     ]
    }
   ],
   "source": [
    "model.compile(loss='mean_squared_error', optimizer='sgd')\n",
    "history = model.fit(xtrain, ytrain, epochs=20, validation_data=(xvalid, yvalid))"
   ]
  },
  {
   "cell_type": "code",
   "execution_count": 13,
   "metadata": {},
   "outputs": [
    {
     "name": "stdout",
     "output_type": "stream",
     "text": [
      "Epoch 1/20\n",
      "363/363 [==============================] - 3s 5ms/step - loss: 1.3744 - val_loss: 4.0095\n",
      "Epoch 2/20\n",
      "363/363 [==============================] - 1s 4ms/step - loss: nan - val_loss: nan\n",
      "Epoch 3/20\n",
      "363/363 [==============================] - 1s 4ms/step - loss: nan - val_loss: nan\n",
      "Epoch 4/20\n",
      "363/363 [==============================] - 1s 4ms/step - loss: nan - val_loss: nan\n",
      "Epoch 5/20\n",
      "363/363 [==============================] - 1s 4ms/step - loss: nan - val_loss: nan\n",
      "Epoch 6/20\n",
      "363/363 [==============================] - 2s 4ms/step - loss: nan - val_loss: nan\n",
      "Epoch 7/20\n",
      "363/363 [==============================] - 1s 4ms/step - loss: nan - val_loss: nan\n",
      "Epoch 8/20\n",
      "363/363 [==============================] - 2s 4ms/step - loss: nan - val_loss: nan\n",
      "Epoch 9/20\n",
      "363/363 [==============================] - 1s 4ms/step - loss: nan - val_loss: nan\n",
      "Epoch 10/20\n",
      "363/363 [==============================] - 1s 4ms/step - loss: nan - val_loss: nan\n",
      "Epoch 11/20\n",
      "363/363 [==============================] - 2s 4ms/step - loss: nan - val_loss: nan\n",
      "Epoch 12/20\n",
      "363/363 [==============================] - 2s 5ms/step - loss: nan - val_loss: nan\n",
      "Epoch 13/20\n",
      "363/363 [==============================] - 2s 4ms/step - loss: nan - val_loss: nan\n",
      "Epoch 14/20\n",
      "363/363 [==============================] - 2s 4ms/step - loss: nan - val_loss: nan\n",
      "Epoch 15/20\n",
      "363/363 [==============================] - 2s 5ms/step - loss: nan - val_loss: nan\n",
      "Epoch 16/20\n",
      "363/363 [==============================] - 2s 5ms/step - loss: nan - val_loss: nan\n",
      "Epoch 17/20\n",
      "363/363 [==============================] - 2s 5ms/step - loss: nan - val_loss: nan\n",
      "Epoch 18/20\n",
      "363/363 [==============================] - 1s 4ms/step - loss: nan - val_loss: nan\n",
      "Epoch 19/20\n",
      "363/363 [==============================] - 1s 4ms/step - loss: nan - val_loss: nan\n",
      "Epoch 20/20\n",
      "363/363 [==============================] - 2s 4ms/step - loss: nan - val_loss: nan\n"
     ]
    }
   ],
   "source": []
  },
  {
   "cell_type": "code",
   "execution_count": 27,
   "metadata": {},
   "outputs": [
    {
     "name": "stdout",
     "output_type": "stream",
     "text": [
      "162/162 [==============================] - 1s 3ms/step - loss: 0.3725\n"
     ]
    }
   ],
   "source": [
    "mse_test = model.evaluate(xtest, ytest)"
   ]
  },
  {
   "cell_type": "code",
   "execution_count": 15,
   "metadata": {},
   "outputs": [
    {
     "data": {
      "text/plain": [
       "array([1.807, 1.581, 2.734])"
      ]
     },
     "execution_count": 15,
     "metadata": {},
     "output_type": "execute_result"
    }
   ],
   "source": [
    "ytest[:3]"
   ]
  },
  {
   "cell_type": "code",
   "execution_count": 16,
   "metadata": {},
   "outputs": [],
   "source": [
    "xnew = xtest[:3]"
   ]
  },
  {
   "cell_type": "code",
   "execution_count": 28,
   "metadata": {},
   "outputs": [],
   "source": [
    "ypred = model.predict(xnew)"
   ]
  },
  {
   "cell_type": "code",
   "execution_count": 29,
   "metadata": {},
   "outputs": [
    {
     "data": {
      "text/plain": [
       "array([[2.5274382],\n",
       "       [1.6114478],\n",
       "       [2.8000715]], dtype=float32)"
      ]
     },
     "execution_count": 29,
     "metadata": {},
     "output_type": "execute_result"
    }
   ],
   "source": [
    "ypred"
   ]
  },
  {
   "cell_type": "code",
   "execution_count": 31,
   "metadata": {},
   "outputs": [
    {
     "data": {
      "text/plain": [
       "(0.0, 1.0)"
      ]
     },
     "execution_count": 31,
     "metadata": {},
     "output_type": "execute_result"
    },
    {
     "data": {
      "image/png": "[encoded data removed]",
      "text/plain": [
       "<Figure size 576x360 with 1 Axes>"
      ]
     },
     "metadata": {
      "needs_background": "light"
     },
     "output_type": "display_data"
    }
   ],
   "source": [
    "import pandas as pd\n",
    "import matplotlib.pyplot as plt \n",
    "pd.DataFrame(history.history).plot(figsize=(8,5))\n",
    "plt.gca().set_ylim(0,1)"
   ]
  },
  {
   "cell_type": "code",
   "execution_count": 32,
   "metadata": {},
   "outputs": [
    {
     "data": {
      "text/plain": [
       "<AxesSubplot:>"
      ]
     },
     "execution_count": 32,
     "metadata": {},
     "output_type": "execute_result"
    },
    {
     "data": {
      "image/png": "[encoded data removed]",
      "text/plain": [
       "<Figure size 432x288 with 1 Axes>"
      ]
     },
     "metadata": {
      "needs_background": "light"
     },
     "output_type": "display_data"
    }
   ],
   "source": [
    "pd.DataFrame(history.history).plot()\n"
   ]
  },
  {
   "cell_type": "code",
   "execution_count": null,
   "metadata": {},
   "outputs": [],
   "source": []
  }
 ],
 "metadata": {
  "kernelspec": {
   "display_name": "Python 3",
   "language": "python",
   "name": "python3"
  },
  "language_info": {
   "codemirror_mode": {
    "name": "ipython",
    "version": 3
   },
   "file_extension": ".py",
   "mimetype": "text/x-python",
   "name": "python",
   "nbconvert_exporter": "python",
   "pygments_lexer": "ipython3",
   "version": "3.10.2"
  }
 },
 "nbformat": 4,
 "nbformat_minor": 2
}
